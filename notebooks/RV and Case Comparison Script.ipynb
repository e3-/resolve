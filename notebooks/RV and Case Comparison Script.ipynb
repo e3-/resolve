{
 "cells": [
  {
   "cell_type": "markdown",
   "id": "524669ec",
   "metadata": {},
   "source": [
    "## Import Necessary packages"
   ]
  },
  {
   "cell_type": "code",
   "execution_count": 1,
   "id": "b9d02ebe",
   "metadata": {},
   "outputs": [],
   "source": [
    "import numpy as np; import pandas as pd\n",
    "import os, openpyxl; import ipywidgets as widgets\n",
    "import xlwings as xw ; import pathlib as Path\n",
    "\n",
    "from ipywidgets import Checkbox, Dropdown, Layout\n",
    "from IPython.display import Image, display\n",
    "\n",
    "try:\n",
    "    from ipyfilechooser import FileChooser\n",
    "except ModuleNotFoundError:\n",
    "    print(\"Installing ipyfilechooser...\")\n",
    "    %pip install ipyfilechooser -q"
   ]
  },
  {
   "cell_type": "markdown",
   "id": "c3170626",
   "metadata": {},
   "source": [
    "### Folder & Directory Selection"
   ]
  },
  {
   "cell_type": "code",
   "execution_count": 2,
   "id": "cf380913",
   "metadata": {},
   "outputs": [
    {
     "data": {
      "application/vnd.jupyter.widget-view+json": {
       "model_id": "c91d91704a0c418e8cb41316aba04264",
       "version_major": 2,
       "version_minor": 0
      },
      "text/plain": [
       "FileChooser(path='C:\\Users\\ritvik.jain\\PycharmProjects2', filename='', title='<b>Select TEMPLATE Results Viewe…"
      ]
     },
     "metadata": {},
     "output_type": "display_data"
    },
    {
     "data": {
      "application/vnd.jupyter.widget-view+json": {
       "model_id": "7a6d8c124149438ebf2f2fadca15d331",
       "version_major": 2,
       "version_minor": 0
      },
      "text/plain": [
       "FileChooser(path='C:\\Users\\ritvik.jain\\PycharmProjects2', filename='', title='<b>Select RESOLVE results folder…"
      ]
     },
     "metadata": {},
     "output_type": "display_data"
    }
   ],
   "source": [
    "# Select File paths\n",
    "\n",
    "rv = FileChooser(\n",
    "    \"..\",\n",
    "    title=\"<b>Select TEMPLATE Results Viewer:</b>\",\n",
    "    layout=Layout(width=\"800px\"),\n",
    "    filter_pattern=\"[!~$]*.xls*\",\n",
    ")\n",
    "rv._show_dialog()\n",
    "display(rv)\n",
    "\n",
    "# Select the folder in which all the test cases are located\n",
    "\n",
    "# Pick where files are stored locally\n",
    "results_folder = FileChooser(\n",
    "    \"..\",\n",
    "    title=\"<b>Select RESOLVE results folder:</b>\",\n",
    "    layout=Layout(width=\"800px\"),\n",
    "    show_only_dirs=True,\n",
    ")\n",
    "results_folder._show_dialog()\n",
    "display(results_folder)\n"
   ]
  },
  {
   "cell_type": "markdown",
   "id": "515d4235",
   "metadata": {},
   "source": [
    "<div class=\"alert alert-block alert-info\">\n",
    "    ℹ️ <b>How does this script work?</b><br><br>\n",
    "    RESOLVE raw results, downloaded from AWS s3 consist of multiple CSVs. This script goes through all of the raw Results and load CSVs of interest into a template Result Viewer workbook, recalculates and then spits out a case-specific RV.<br>\n",
    "    \n",
    "The user can specify one or multiple cases and then direct the script to the location where these cases are located. <br>\n",
    "The script will then loop through each of the cases and produce a seperate RV for each of the cases specified. \n",
    "    \n",
    "    \n",
    "</div>"
   ]
  },
  {
   "cell_type": "markdown",
   "id": "e19f9eed",
   "metadata": {},
   "source": [
    "### Input the names and timestamps of cases you want to generate the RV for"
   ]
  },
  {
   "cell_type": "code",
   "execution_count": 3,
   "id": "b5238ad8",
   "metadata": {},
   "outputs": [],
   "source": [
    "# 'cases_and_timestamps' takes as input a list of tuples, where each tuple represents the case name and timestamp\n",
    "#  Before running the code blocks below please make sure that the template RV excel file is NOT OPEN!!!!\n",
    "\n",
    "cases_and_timestamps = [\n",
    "  ('IEPR Test case', '2024-05-09 05-20-36'),\n",
    "  ('Core_Forced_All_LLT_2035_AZ_Solar'   ,''),\n",
    "  ('Core_Forced_LLT_Geo_LDES_2035'   ,'')\n",
    " ]\n",
    "\n",
    "rv_path = rv.selected ; results_path = results_folder.selected"
   ]
  },
  {
   "cell_type": "code",
   "execution_count": 8,
   "id": "f826974a",
   "metadata": {},
   "outputs": [],
   "source": [
    "#Following is the list of all csvs that are fed into the scenario tool\n",
    "\n",
    "sheet_mapping = [\n",
    "    ('results_summary/asset_summary.csv', 'Asset Summary'),                                 # 1   \n",
    "    ('results_summary/resource_summary.csv', 'Resource Summary'),                           # 2\n",
    "    ('results_summary/resource_fuel_burn_summary.csv', 'Resource Fuel Burn'),               # 3\n",
    "    ('results_summary/annual_load_components_summary.csv', 'Load Components'),              # 4\n",
    "    ('results_summary/transmission_summary.csv', 'Transmission Summary'),                   # 5\n",
    "    ('results_summary/zonal_summary.csv', 'Zonal Summary'),                                 # 6\n",
    "    ('results_summary/policy_summary.csv', 'Policy Summary'),                               # 7\n",
    "    ('results_summary/prm_policy_resource_summary.csv', 'PRM Resource Summary'),            # 8\n",
    "    ('results_summary/energy_policy_summary.csv', 'Energy Policy Summary'),                 # 9\n",
    "    ('results_summary/emissions_policy_tx_path_summary.csv', 'Emissions Policy TxPath'),    # 10\n",
    "    ('results_summary/emissions_policy_resource_summary.csv', 'Emissions Policy Resource'), # 11\n",
    "    ('variables/ELCC_MW.csv', 'ELCC_MW'),                                                   # 12\n",
    "    ('constraints/ELCC_Facet_Constraint_LHS.csv','ELCC_Facet_Constraint_LHS'),              # 13\n",
    "    ('constraints/Custom_Constraint.csv','Custom Constraints'),                             # 14  \n",
    "    ('results_summary/temporal_settings_summary.csv', 'Temporal Settings'),                 # 15\n",
    "    ('temporal_settings/rep_periods.csv','Representative Sample Days'),                     # 16\n",
    "]\n",
    "\n",
    "new_rv = 'Resolve RV - {} {}.xlsx'"
   ]
  },
  {
   "cell_type": "code",
   "execution_count": 5,
   "id": "e631bc2f",
   "metadata": {},
   "outputs": [],
   "source": [
    "def generate_rv(cases_and_timestamps= cases_and_timestamps):\n",
    "\n",
    "    for case, timestamp in cases_and_timestamps:\n",
    "        if pd.isna(timestamp):\n",
    "            results_dir = os.path.join(results_path,case)\n",
    "            #if the RV Already exists then loop out  \n",
    "            if os.path.exists(os.path.join(results_path,new_rv.format(case))):\n",
    "                return \"Result Viewer Already Exists for {} {}\".format(case,timestamp)\n",
    "        else:\n",
    "            results_dir = os.path.join(results_path,case,timestamp)\n",
    "            #if the RV already exists then loop out\n",
    "            if os.path.exists(os.path.join(results_path,new_rv.format(case,timestamp))):\n",
    "                return \"Result Viewer Already Exists for {} {}\".format(case,timestamp)\n",
    "         \n",
    "        #once confirmed that the RV does not exist, start loading raw results\n",
    "        \n",
    "        wb = xw.Book(rv_path)\n",
    "        print(\"Starting RV Creation for {} {}\".format(case,timestamp))\n",
    "        for summary_filename, target_sheet_name in sheet_mapping:\n",
    "        \n",
    "            if target_sheet_name not in [sheet.name for sheet in wb.sheets]:\n",
    "                wb.sheets.add(name=target_sheet_name, after='Raw Summary Files >>')\n",
    "        \n",
    "            wb.app.status_bar = f'Loading {summary_filename}'\n",
    "            df = pd.DataFrame()\n",
    "            df = pd.concat([df, pd.read_csv(os.path.join(results_dir, summary_filename))], ignore_index=True)\n",
    "            print(f\"Done with {target_sheet_name}\") \n",
    "            wb.sheets[target_sheet_name].api.AutoFilterMode = False\n",
    "            wb.sheets[target_sheet_name].clear()\n",
    "            wb.sheets[target_sheet_name].range('A1').options(index=False).value = df\n",
    "        \n",
    "        print(f\"Done reading raw files for {case} {timestamp} \")\n",
    "        wb.sheets['Dashboard'].range('active_case').value = f\"{case}_{timestamp}\"\n",
    "        wb.app.status_bar = f'Finished loading {case} {timestamp}'\n",
    "\n",
    "        wb.save(path = os.path.join(results_path,new_rv.format(case,timestamp)))\n",
    "        \n",
    "    return wb.close()"
   ]
  },
  {
   "cell_type": "code",
   "execution_count": 6,
   "id": "7e784a80",
   "metadata": {},
   "outputs": [],
   "source": [
    "def generate_single_rv(cases_and_timestamps):\n",
    "    generate_rv(cases_and_timestamps)\n",
    "    \n",
    "    return \"All RV's produced\"\n",
    "    \n",
    "def generate_multiple_rvs(cases_and_timestamps):\n",
    "    for _ in cases_and_timestamps:\n",
    "        generate_rv([tuple(_)])\n",
    "    \n",
    "    return \"All RV's produced\""
   ]
  },
  {
   "cell_type": "code",
   "execution_count": 7,
   "id": "d8d85ef2",
   "metadata": {},
   "outputs": [
    {
     "name": "stdout",
     "output_type": "stream",
     "text": [
      "Starting RV Creation for Core_Forced_All_LLT_2035_AZ_Solar \n",
      "Done with Asset Summary\n",
      "Done with Resource Summary\n",
      "Done with Resource Fuel Burn\n",
      "Done with Load Components\n",
      "Done with Transmission Summary\n",
      "Done with Zonal Summary\n",
      "Done with Policy Summary\n",
      "Done with PRM Resource Summary\n",
      "Done with Energy Policy Summary\n",
      "Done with Emissions Policy TxPath\n",
      "Done with Emissions Policy Resource\n",
      "Done with ELCC_MW\n",
      "Done with ELCC_Facet_Constraint_LHS\n",
      "Done with Custom Constraints\n",
      "Done with Temporal Settings\n",
      "Done with Representative Sample Days\n",
      "Done reading raw files for Core_Forced_All_LLT_2035_AZ_Solar  \n",
      "Starting RV Creation for Core_Forced_LLT_Geo_LDES_2035 \n",
      "Done with Asset Summary\n",
      "Done with Resource Summary\n",
      "Done with Resource Fuel Burn\n",
      "Done with Load Components\n",
      "Done with Transmission Summary\n",
      "Done with Zonal Summary\n",
      "Done with Policy Summary\n",
      "Done with PRM Resource Summary\n",
      "Done with Energy Policy Summary\n",
      "Done with Emissions Policy TxPath\n",
      "Done with Emissions Policy Resource\n",
      "Done with ELCC_MW\n",
      "Done with ELCC_Facet_Constraint_LHS\n",
      "Done with Custom Constraints\n",
      "Done with Temporal Settings\n",
      "Done with Representative Sample Days\n",
      "Done reading raw files for Core_Forced_LLT_Geo_LDES_2035  \n"
     ]
    },
    {
     "data": {
      "text/plain": [
       "\"All RV's produced\""
      ]
     },
     "execution_count": 7,
     "metadata": {},
     "output_type": "execute_result"
    }
   ],
   "source": [
    "generate_multiple_rvs(cases_and_timestamps)"
   ]
  },
  {
   "cell_type": "code",
   "execution_count": 17,
   "id": "a8a80adc",
   "metadata": {},
   "outputs": [],
   "source": [
    "# All the case specific RV's should now be produced in the results folder where the cases are saved"
   ]
  },
  {
   "cell_type": "markdown",
   "id": "d90c720f",
   "metadata": {},
   "source": [
    "## Case Comparison (Optional)"
   ]
  },
  {
   "cell_type": "code",
   "execution_count": 18,
   "id": "4680e9ca",
   "metadata": {},
   "outputs": [
    {
     "data": {
      "application/vnd.jupyter.widget-view+json": {
       "model_id": "86601fdcc98948ffa7a1232cd2b3cd23",
       "version_major": 2,
       "version_minor": 0
      },
      "text/plain": [
       "FileChooser(path='C:\\Users\\ritvik.jain\\PycharmProjects2', filename='', title='<b>Select TEMPLATE Case Comparis…"
      ]
     },
     "metadata": {},
     "output_type": "display_data"
    }
   ],
   "source": [
    "# Select the comparison Workbook template \n",
    "case_comp = FileChooser(\n",
    "    \"..\",\n",
    "    title=\"<b>Select TEMPLATE Case Comparison Workbook:</b>\",\n",
    "    layout=Layout(width=\"800px\"),\n",
    "    filter_pattern=\"[!~$]*.xls*\",\n",
    ")\n",
    "case_comp._show_dialog()\n",
    "display(case_comp)"
   ]
  },
  {
   "cell_type": "markdown",
   "id": "cceda2e3",
   "metadata": {},
   "source": [
    "<div class=\"alert alert-block alert-info\">\n",
    "    ℹ️ <b>How does case comparison work?</b><br><br>\n",
    "    For RESOLVE batch runs it is often important to compare and contrast different cases for QA/QC, sensitivities testing etc. <br>\n",
    "    \n",
    "After the creation of the RV, the user can define what cases they want to compare and load the \"Summaries\" from each of those cases on to a Case Comparison Excel Workbook <br> <br>\n",
    "Once that is done the user can easily toggle comparisons between different cases from the excel workbook.     \n",
    "    \n",
    "</div>"
   ]
  },
  {
   "cell_type": "markdown",
   "id": "b8c26e39",
   "metadata": {},
   "source": [
    "\n",
    "### Considering that you have used the above script to generate RV's and are continuing the same process to do case comparisons"
   ]
  },
  {
   "cell_type": "code",
   "execution_count": 19,
   "id": "d56050a8",
   "metadata": {},
   "outputs": [],
   "source": [
    "results_path = results_folder.selected ; \n",
    "rvs = [file for file in os.listdir(results_path) if file.endswith('.xlsx') and \"Resolve RV\" in file]"
   ]
  },
  {
   "cell_type": "code",
   "execution_count": 22,
   "id": "1a370a93",
   "metadata": {},
   "outputs": [],
   "source": [
    "def create_case_comp_workbook():\n",
    "    \n",
    "    comp_wb = xw.Book(case_comp.selected)\n",
    "\n",
    "    for rv in rvs:\n",
    "\n",
    "        rv_temp = xw.Book(os.path.join(results_path,rv))\n",
    "        case_name = rv_temp.sheets['Dashboard'].range('active_case').value\n",
    "        if len(case_name) >31:\n",
    "            print(\"Case Name is too long to be a Sheet name. Name will be shortened and saved\")\n",
    "            case_name = case_name[:30]\n",
    "        print(\"Loading Summary tab for {}\".format(case_name))\n",
    "\n",
    "        target_sheet_name = case_name\n",
    "        if target_sheet_name not in [sheet.name for sheet in comp_wb.sheets]:\n",
    "            rv_temp.sheets['Summary'].api.Copy(After=comp_wb.sheets['Data >>'].api)\n",
    "            comp_wb.sheets['Summary'].name = target_sheet_name\n",
    "            case_data = comp_wb.sheets[target_sheet_name].range('A1:AG465').value\n",
    "            comp_wb.sheets[target_sheet_name].range('A1').value = case_data\n",
    "            print(\"Sheet created for {}\".format(case_name))\n",
    "\n",
    "        else:\n",
    "            print(\"Sheet already exists for {}\".format(target_sheet_name))\n",
    "\n",
    "        rv_temp.close()\n",
    "\n",
    "        print('Now Saving')\n",
    "        comp_wb.save()\n",
    "\n",
    "    print(\"Summary of all cases loaded on to the Case Comparison Worksheet!\")\n",
    "    return comp_wb"
   ]
  },
  {
   "cell_type": "code",
   "execution_count": 23,
   "id": "3fd33b2e",
   "metadata": {},
   "outputs": [
    {
     "name": "stdout",
     "output_type": "stream",
     "text": [
      "Case Name is too long to be a Sheet name. Name will be shortened and saved\n",
      "Loading Summary tab for Core_Forced_All_LLT_2035_AZ_So\n",
      "Sheet created for Core_Forced_All_LLT_2035_AZ_So\n",
      "Now Saving\n",
      "Loading Summary tab for Core_Forced_LLT_Geo_LDES_2035_\n",
      "Sheet created for Core_Forced_LLT_Geo_LDES_2035_\n",
      "Now Saving\n",
      "Case Name is too long to be a Sheet name. Name will be shortened and saved\n",
      "Loading Summary tab for IEPR Test case_2024-05-09 05-2\n",
      "Sheet created for IEPR Test case_2024-05-09 05-2\n",
      "Now Saving\n",
      "Summary of all cases loaded on to the Case Comparison Worksheet!\n"
     ]
    },
    {
     "data": {
      "text/plain": [
       "<Book [Comparison Workbook Template.xlsx]>"
      ]
     },
     "execution_count": 23,
     "metadata": {},
     "output_type": "execute_result"
    }
   ],
   "source": [
    "create_case_comp_workbook()"
   ]
  }
 ],
 "metadata": {
  "kernelspec": {
   "display_name": "Python 3 (ipykernel)",
   "language": "python",
   "name": "python3"
  },
  "language_info": {
   "codemirror_mode": {
    "name": "ipython",
    "version": 3
   },
   "file_extension": ".py",
   "mimetype": "text/x-python",
   "name": "python",
   "nbconvert_exporter": "python",
   "pygments_lexer": "ipython3",
   "version": "3.10.9"
  },
  "varInspector": {
   "cols": {
    "lenName": 16,
    "lenType": 16,
    "lenVar": 40
   },
   "kernels_config": {
    "python": {
     "delete_cmd_postfix": "",
     "delete_cmd_prefix": "del ",
     "library": "var_list.py",
     "varRefreshCmd": "print(var_dic_list())"
    },
    "r": {
     "delete_cmd_postfix": ") ",
     "delete_cmd_prefix": "rm(",
     "library": "var_list.r",
     "varRefreshCmd": "cat(var_dic_list()) "
    }
   },
   "types_to_exclude": [
    "module",
    "function",
    "builtin_function_or_method",
    "instance",
    "_Feature"
   ],
   "window_display": false
  }
 },
 "nbformat": 4,
 "nbformat_minor": 5
}
